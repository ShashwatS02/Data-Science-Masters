{
 "cells": [
  {
   "cell_type": "markdown",
   "id": "b3cf29e5-428f-436e-adb9-e62b414d7505",
   "metadata": {},
   "source": [
    "## Logical Operators\n",
    "1. and\n",
    "2. or\n",
    "3. not"
   ]
  },
  {
   "cell_type": "code",
   "execution_count": 2,
   "id": "fe3089e5-1818-4881-955f-a6e22ab1fd30",
   "metadata": {},
   "outputs": [
    {
     "data": {
      "text/plain": [
       "1"
      ]
     },
     "execution_count": 2,
     "metadata": {},
     "output_type": "execute_result"
    }
   ],
   "source": [
    "int(not(0))"
   ]
  },
  {
   "cell_type": "code",
   "execution_count": 1,
   "id": "daf7d05e-f78a-4d37-a6a1-ae0a6b88b3f7",
   "metadata": {},
   "outputs": [
    {
     "data": {
      "text/plain": [
       "False"
      ]
     },
     "execution_count": 1,
     "metadata": {},
     "output_type": "execute_result"
    }
   ],
   "source": [
    "not int(bool(1))"
   ]
  },
  {
   "cell_type": "code",
   "execution_count": 4,
   "id": "f8d1c6fa-149c-4382-a8a3-508844b93352",
   "metadata": {},
   "outputs": [
    {
     "data": {
      "text/plain": [
       "True"
      ]
     },
     "execution_count": 4,
     "metadata": {},
     "output_type": "execute_result"
    }
   ],
   "source": [
    "not (False) * True"
   ]
  },
  {
   "cell_type": "code",
   "execution_count": 6,
   "id": "8c838a79-371b-4293-9ce4-d63be6dc2a24",
   "metadata": {},
   "outputs": [
    {
     "data": {
      "text/plain": [
       "True"
      ]
     },
     "execution_count": 6,
     "metadata": {},
     "output_type": "execute_result"
    }
   ],
   "source": [
    "not False * True == True"
   ]
  },
  {
   "cell_type": "code",
   "execution_count": 7,
   "id": "f487f0a2-6dc0-4dcc-8fc8-1b137830f0ba",
   "metadata": {},
   "outputs": [],
   "source": [
    "lst_a=[1,2,3,4]\n",
    "lst_b=[1,2,3,4]"
   ]
  },
  {
   "cell_type": "code",
   "execution_count": 8,
   "id": "8eb92589-8eea-4632-8dde-21716e9860c7",
   "metadata": {},
   "outputs": [
    {
     "name": "stdout",
     "output_type": "stream",
     "text": [
      "140345317361280\n",
      "140345317368384\n"
     ]
    }
   ],
   "source": [
    "print(id(lst_a))\n",
    "print(id(lst_b))"
   ]
  },
  {
   "cell_type": "code",
   "execution_count": 9,
   "id": "f2dad294-38a4-4db5-8d3d-794e1e25010d",
   "metadata": {},
   "outputs": [
    {
     "data": {
      "text/plain": [
       "False"
      ]
     },
     "execution_count": 9,
     "metadata": {},
     "output_type": "execute_result"
    }
   ],
   "source": [
    "lst_a is lst_b"
   ]
  },
  {
   "cell_type": "code",
   "execution_count": 10,
   "id": "f5bccaf0-77bf-431d-b9dc-771398a829b3",
   "metadata": {},
   "outputs": [],
   "source": [
    "lst_a=[1,2,3,4]\n",
    "lst_a=lst_b"
   ]
  },
  {
   "cell_type": "code",
   "execution_count": 11,
   "id": "2081f3bb-3604-4a55-8da8-27c7c73b26fb",
   "metadata": {},
   "outputs": [
    {
     "name": "stdout",
     "output_type": "stream",
     "text": [
      "140345317368384\n",
      "140345317368384\n"
     ]
    }
   ],
   "source": [
    "print(id(lst_a))\n",
    "print(id(lst_b))"
   ]
  },
  {
   "cell_type": "code",
   "execution_count": 12,
   "id": "5bc45b15-4c09-4941-8fe3-e530baec99ff",
   "metadata": {},
   "outputs": [
    {
     "data": {
      "text/plain": [
       "True"
      ]
     },
     "execution_count": 12,
     "metadata": {},
     "output_type": "execute_result"
    }
   ],
   "source": [
    "lst_a is lst_b"
   ]
  },
  {
   "cell_type": "code",
   "execution_count": 13,
   "id": "16ab44dd-7621-4a8b-8968-4c56d671818b",
   "metadata": {},
   "outputs": [
    {
     "data": {
      "text/plain": [
       "True"
      ]
     },
     "execution_count": 13,
     "metadata": {},
     "output_type": "execute_result"
    }
   ],
   "source": [
    "lst_a==lst_b  #this checks the value inside the memoroy address not the memory address itself."
   ]
  },
  {
   "cell_type": "code",
   "execution_count": 14,
   "id": "6d5a744b-ff91-48ba-9f1c-60fbe3e0dafc",
   "metadata": {},
   "outputs": [
    {
     "name": "stdout",
     "output_type": "stream",
     "text": [
      "140345665470736\n",
      "140345665470736\n"
     ]
    }
   ],
   "source": [
    "a=2 \n",
    "b=2\n",
    "print (id(a))\n",
    "print (id(b))"
   ]
  },
  {
   "cell_type": "code",
   "execution_count": 15,
   "id": "fa7175d7-70de-44d0-8aa1-2778ebbea91b",
   "metadata": {},
   "outputs": [
    {
     "data": {
      "text/plain": [
       "[1, 2, 3, 4]"
      ]
     },
     "execution_count": 15,
     "metadata": {},
     "output_type": "execute_result"
    }
   ],
   "source": [
    "lst_a"
   ]
  },
  {
   "cell_type": "code",
   "execution_count": 16,
   "id": "3ca15975-6b7f-442e-9517-60d9d3fa131d",
   "metadata": {},
   "outputs": [
    {
     "data": {
      "text/plain": [
       "[10, 2, 3, 4]"
      ]
     },
     "execution_count": 16,
     "metadata": {},
     "output_type": "execute_result"
    }
   ],
   "source": [
    "lst_a[0]=10\n",
    "lst_a"
   ]
  },
  {
   "cell_type": "code",
   "execution_count": 17,
   "id": "bb8a8df8-3a69-4ea9-93e6-78adbfe1d30f",
   "metadata": {},
   "outputs": [
    {
     "data": {
      "text/plain": [
       "'S'"
      ]
     },
     "execution_count": 17,
     "metadata": {},
     "output_type": "execute_result"
    }
   ],
   "source": [
    "str1='Shashwat'\n",
    "str1[0]\n"
   ]
  },
  {
   "cell_type": "code",
   "execution_count": 20,
   "id": "3fa0813a-d506-4bf6-9cc3-09db948e4e6e",
   "metadata": {},
   "outputs": [
    {
     "ename": "TypeError",
     "evalue": "'str' object does not support item assignment",
     "output_type": "error",
     "traceback": [
      "\u001b[0;31m---------------------------------------------------------------------------\u001b[0m",
      "\u001b[0;31mTypeError\u001b[0m                                 Traceback (most recent call last)",
      "Cell \u001b[0;32mIn[20], line 1\u001b[0m\n\u001b[0;32m----> 1\u001b[0m \u001b[43mstr1\u001b[49m\u001b[43m[\u001b[49m\u001b[38;5;241;43m0\u001b[39;49m\u001b[43m]\u001b[49m\u001b[38;5;241m=\u001b[39m\u001b[38;5;124m'\u001b[39m\u001b[38;5;124mC\u001b[39m\u001b[38;5;124m'\u001b[39m \u001b[38;5;66;03m#in string the value cannot be replaced but in list the value gets replaced hence same address in string and different in list\u001b[39;00m\n\u001b[1;32m      2\u001b[0m \u001b[38;5;66;03m#hence sring is immutable\u001b[39;00m\n",
      "\u001b[0;31mTypeError\u001b[0m: 'str' object does not support item assignment"
     ]
    }
   ],
   "source": [
    "str1[0]='C' #in string the value cannot be replaced but in list the value gets replaced hence same address in string and different in list\n",
    "#hence sring is immutable but list is mutable"
   ]
  },
  {
   "cell_type": "markdown",
   "id": "01d000a8-b07d-4b54-886b-3acbcdd1da9c",
   "metadata": {},
   "source": [
    "## Arithemetic operations|"
   ]
  },
  {
   "cell_type": "code",
   "execution_count": 22,
   "id": "194b770d-3682-4c08-82aa-897bb08ec31b",
   "metadata": {},
   "outputs": [],
   "source": [
    "a=25\n",
    "b=101"
   ]
  },
  {
   "cell_type": "code",
   "execution_count": 23,
   "id": "15f1a44f-8e48-483a-a595-019442f6fcbf",
   "metadata": {},
   "outputs": [
    {
     "data": {
      "text/plain": [
       "0.24752475247524752"
      ]
     },
     "execution_count": 23,
     "metadata": {},
     "output_type": "execute_result"
    }
   ],
   "source": [
    "a/b"
   ]
  },
  {
   "cell_type": "code",
   "execution_count": 25,
   "id": "848383f1-d67d-449e-8fe9-600dc83286bf",
   "metadata": {},
   "outputs": [
    {
     "data": {
      "text/plain": [
       "0"
      ]
     },
     "execution_count": 25,
     "metadata": {},
     "output_type": "execute_result"
    }
   ],
   "source": [
    "a//b #integer division gives the integer value ignoring digits after the decimal"
   ]
  },
  {
   "cell_type": "code",
   "execution_count": 27,
   "id": "3251d4b8-300f-4017-bb81-a09b9f233e1f",
   "metadata": {},
   "outputs": [
    {
     "data": {
      "text/plain": [
       "1"
      ]
     },
     "execution_count": 27,
     "metadata": {},
     "output_type": "execute_result"
    }
   ],
   "source": [
    "b%a #here the maodulo function gives the remainder"
   ]
  },
  {
   "cell_type": "code",
   "execution_count": 28,
   "id": "a5950100-876a-403c-ba5b-350f7bfb5d53",
   "metadata": {},
   "outputs": [
    {
     "data": {
      "text/plain": [
       "25"
      ]
     },
     "execution_count": 28,
     "metadata": {},
     "output_type": "execute_result"
    }
   ],
   "source": [
    "a%b"
   ]
  },
  {
   "cell_type": "code",
   "execution_count": 1,
   "id": "2bcfe216-cfdc-4dac-acc3-63b8696f0654",
   "metadata": {},
   "outputs": [
    {
     "data": {
      "text/plain": [
       "'0b1010'"
      ]
     },
     "execution_count": 1,
     "metadata": {},
     "output_type": "execute_result"
    }
   ],
   "source": [
    "#binary of a number\n",
    "var=10\n",
    "bin(var)"
   ]
  },
  {
   "cell_type": "markdown",
   "id": "26feaa16-c645-4bd4-ae2c-5f306397d411",
   "metadata": {},
   "source": [
    "## Strings"
   ]
  },
  {
   "cell_type": "code",
   "execution_count": 3,
   "id": "4e615ec5-ff4d-436a-b880-3d9e4c1a5984",
   "metadata": {},
   "outputs": [
    {
     "data": {
      "text/plain": [
       "'Welcome to my learning  journey'"
      ]
     },
     "execution_count": 3,
     "metadata": {},
     "output_type": "execute_result"
    }
   ],
   "source": [
    "# both '' and \"\" can be used to represent a string\n",
    "'Welcome to my learning  journey'"
   ]
  },
  {
   "cell_type": "code",
   "execution_count": 4,
   "id": "4a72c0c6-7794-42eb-89c0-659735cd904f",
   "metadata": {},
   "outputs": [],
   "source": [
    "str1='Shashwat'"
   ]
  },
  {
   "cell_type": "code",
   "execution_count": 6,
   "id": "e99c372d-38d1-4c12-aede-aa644ac22f29",
   "metadata": {},
   "outputs": [
    {
     "data": {
      "text/plain": [
       "'w'"
      ]
     },
     "execution_count": 6,
     "metadata": {},
     "output_type": "execute_result"
    }
   ],
   "source": [
    "str1[5]"
   ]
  },
  {
   "cell_type": "code",
   "execution_count": 8,
   "id": "7c805534-f332-44d1-a554-15210673024a",
   "metadata": {},
   "outputs": [
    {
     "data": {
      "text/plain": [
       "'wat'"
      ]
     },
     "execution_count": 8,
     "metadata": {},
     "output_type": "execute_result"
    }
   ],
   "source": [
    "#slice operation\n",
    "str1[5:]"
   ]
  },
  {
   "cell_type": "code",
   "execution_count": 13,
   "id": "41889d85-6348-414e-ae8c-57239a95c8a9",
   "metadata": {},
   "outputs": [
    {
     "data": {
      "text/plain": [
       "'t'"
      ]
     },
     "execution_count": 13,
     "metadata": {},
     "output_type": "execute_result"
    }
   ],
   "source": [
    "#gives last element on string\n",
    "str1[-1]"
   ]
  },
  {
   "cell_type": "code",
   "execution_count": 15,
   "id": "4d921deb-2c40-4151-8051-d84709b11f14",
   "metadata": {},
   "outputs": [
    {
     "data": {
      "text/plain": [
       "'wat'"
      ]
     },
     "execution_count": 15,
     "metadata": {},
     "output_type": "execute_result"
    }
   ],
   "source": [
    "str1[-3:]"
   ]
  },
  {
   "cell_type": "code",
   "execution_count": 16,
   "id": "b343d252-1673-4dea-b69e-43eb6b7d3988",
   "metadata": {},
   "outputs": [
    {
     "data": {
      "text/plain": [
       "'hash'"
      ]
     },
     "execution_count": 16,
     "metadata": {},
     "output_type": "execute_result"
    }
   ],
   "source": [
    "str1[-7:-3]"
   ]
  },
  {
   "cell_type": "code",
   "execution_count": 18,
   "id": "05ca2213-b950-4a57-a5e4-6c35f8f62854",
   "metadata": {},
   "outputs": [
    {
     "data": {
      "text/plain": [
       "'Shashwa'"
      ]
     },
     "execution_count": 18,
     "metadata": {},
     "output_type": "execute_result"
    }
   ],
   "source": [
    "##reades evrything except the last char\n",
    "str1[:-1]"
   ]
  },
  {
   "cell_type": "code",
   "execution_count": 19,
   "id": "77898a0f-131d-4d57-9549-0c2811c03c42",
   "metadata": {},
   "outputs": [
    {
     "data": {
      "text/plain": [
       "'tawhsahS'"
      ]
     },
     "execution_count": 19,
     "metadata": {},
     "output_type": "execute_result"
    }
   ],
   "source": [
    "str1[::-1]"
   ]
  },
  {
   "cell_type": "code",
   "execution_count": 20,
   "id": "930a02cb-f63a-44fb-8f9c-1df0b7c4139a",
   "metadata": {},
   "outputs": [
    {
     "data": {
      "text/plain": [
       "'twsh'"
      ]
     },
     "execution_count": 20,
     "metadata": {},
     "output_type": "execute_result"
    }
   ],
   "source": [
    "str1[::-2]"
   ]
  },
  {
   "cell_type": "code",
   "execution_count": 28,
   "id": "a2c76313-1def-4df0-aad9-86bf2144cd10",
   "metadata": {},
   "outputs": [
    {
     "data": {
      "text/plain": [
       "'ash'"
      ]
     },
     "execution_count": 28,
     "metadata": {},
     "output_type": "execute_result"
    }
   ],
   "source": [
    "str1[2:5:1]"
   ]
  },
  {
   "cell_type": "code",
   "execution_count": 32,
   "id": "ab3e69c0-8f21-4d8c-a039-faf5a2777ed6",
   "metadata": {},
   "outputs": [
    {
     "data": {
      "text/plain": [
       "'hsa'"
      ]
     },
     "execution_count": 32,
     "metadata": {},
     "output_type": "execute_result"
    }
   ],
   "source": [
    "str1[4:1:-1]"
   ]
  },
  {
   "cell_type": "code",
   "execution_count": 33,
   "id": "90e6c78b-e54f-4eda-9d46-5187aa8831e7",
   "metadata": {},
   "outputs": [
    {
     "data": {
      "text/plain": [
       "'Shashwat Singh'"
      ]
     },
     "execution_count": 33,
     "metadata": {},
     "output_type": "execute_result"
    }
   ],
   "source": [
    "#concatenation\n",
    "str1 + \" Singh\""
   ]
  },
  {
   "cell_type": "code",
   "execution_count": 34,
   "id": "ff61012e-4e94-4e8d-b18d-b47f5b3da04b",
   "metadata": {},
   "outputs": [
    {
     "name": "stdout",
     "output_type": "stream",
     "text": [
      "HelloWorld\n"
     ]
    }
   ],
   "source": [
    "print(\"Hello\"+\"World\")"
   ]
  },
  {
   "cell_type": "code",
   "execution_count": 35,
   "id": "f4f8c264-122b-4498-a947-eea6a3565b3f",
   "metadata": {},
   "outputs": [
    {
     "data": {
      "text/plain": [
       "'ShashwatShashwatShashwatShashwatShashwat'"
      ]
     },
     "execution_count": 35,
     "metadata": {},
     "output_type": "execute_result"
    }
   ],
   "source": [
    "str1*5"
   ]
  },
  {
   "cell_type": "code",
   "execution_count": 36,
   "id": "eddf9db5-13f5-44a2-8487-cf2629681f1f",
   "metadata": {},
   "outputs": [
    {
     "data": {
      "text/plain": [
       "8"
      ]
     },
     "execution_count": 36,
     "metadata": {},
     "output_type": "execute_result"
    }
   ],
   "source": [
    "len(str1)"
   ]
  },
  {
   "cell_type": "code",
   "execution_count": 39,
   "id": "1f657ae1-cd7f-474c-97d5-1c8e7f07b1ee",
   "metadata": {},
   "outputs": [
    {
     "data": {
      "text/plain": [
       "0"
      ]
     },
     "execution_count": 39,
     "metadata": {},
     "output_type": "execute_result"
    }
   ],
   "source": [
    "str1.find(\"S\")"
   ]
  },
  {
   "cell_type": "code",
   "execution_count": 40,
   "id": "1d8a961a-c868-4eb9-a0c1-66a07b50916e",
   "metadata": {},
   "outputs": [
    {
     "data": {
      "text/plain": [
       "7"
      ]
     },
     "execution_count": 40,
     "metadata": {},
     "output_type": "execute_result"
    }
   ],
   "source": [
    "str1.find(\"t\")"
   ]
  },
  {
   "cell_type": "code",
   "execution_count": 42,
   "id": "9b2bacf8-2bae-4720-a517-39fcb37e85c7",
   "metadata": {},
   "outputs": [
    {
     "data": {
      "text/plain": [
       "6"
      ]
     },
     "execution_count": 42,
     "metadata": {},
     "output_type": "execute_result"
    }
   ],
   "source": [
    "str1.find(\"a\",3,7)"
   ]
  },
  {
   "cell_type": "code",
   "execution_count": 43,
   "id": "84f7fb5e-866b-40b4-abd0-2ec24ea4efad",
   "metadata": {},
   "outputs": [
    {
     "data": {
      "text/plain": [
       "-1"
      ]
     },
     "execution_count": 43,
     "metadata": {},
     "output_type": "execute_result"
    }
   ],
   "source": [
    "str1.find(\"z\")"
   ]
  },
  {
   "cell_type": "code",
   "execution_count": 45,
   "id": "0df28953-44b6-45cd-9522-8754e3f89ba4",
   "metadata": {},
   "outputs": [
    {
     "data": {
      "text/plain": [
       "2"
      ]
     },
     "execution_count": 45,
     "metadata": {},
     "output_type": "execute_result"
    }
   ],
   "source": [
    "##count()\n",
    "str1.count('a')"
   ]
  },
  {
   "cell_type": "code",
   "execution_count": 46,
   "id": "2fbdd631-cc26-47b0-bdc6-c4375abe9fa2",
   "metadata": {},
   "outputs": [
    {
     "data": {
      "text/plain": [
       "0"
      ]
     },
     "execution_count": 46,
     "metadata": {},
     "output_type": "execute_result"
    }
   ],
   "source": [
    "str1.count(' ')"
   ]
  },
  {
   "cell_type": "code",
   "execution_count": 50,
   "id": "ff817360-fb06-4c71-b5c5-59164b3d4090",
   "metadata": {},
   "outputs": [
    {
     "data": {
      "text/plain": [
       "9"
      ]
     },
     "execution_count": 50,
     "metadata": {},
     "output_type": "execute_result"
    }
   ],
   "source": [
    "#here the blank is considered as an additional character\n",
    "str1.count('')"
   ]
  },
  {
   "cell_type": "code",
   "execution_count": 48,
   "id": "bfb45831-d63f-458f-96f1-71f4cc74f042",
   "metadata": {},
   "outputs": [
    {
     "data": {
      "text/plain": [
       "['My', 'name', 'is', 'Shashwat', 'Singh']"
      ]
     },
     "execution_count": 48,
     "metadata": {},
     "output_type": "execute_result"
    }
   ],
   "source": [
    "#string split function\n",
    "str2=\"My name is Shashwat Singh\"\n",
    "str2.split(\" \")"
   ]
  },
  {
   "cell_type": "code",
   "execution_count": 51,
   "id": "391754f5-db3e-40e5-a8ef-e22060473400",
   "metadata": {},
   "outputs": [
    {
     "data": {
      "text/plain": [
       "['My name is ', 'hashwat ', 'ingh']"
      ]
     },
     "execution_count": 51,
     "metadata": {},
     "output_type": "execute_result"
    }
   ],
   "source": [
    "str2.split(\"S\")"
   ]
  },
  {
   "cell_type": "code",
   "execution_count": 52,
   "id": "92c6c92b-4e4e-4f59-83c6-58aefb8ea72f",
   "metadata": {},
   "outputs": [
    {
     "data": {
      "text/plain": [
       "['My na', 'e is Shashwat Singh']"
      ]
     },
     "execution_count": 52,
     "metadata": {},
     "output_type": "execute_result"
    }
   ],
   "source": [
    "str2.split(\"m\")"
   ]
  },
  {
   "cell_type": "code",
   "execution_count": 53,
   "id": "eff046d3-2655-44b1-a98b-86b44f70cf02",
   "metadata": {},
   "outputs": [
    {
     "data": {
      "text/plain": [
       "('My name is ', 'S', 'hashwat Singh')"
      ]
     },
     "execution_count": 53,
     "metadata": {},
     "output_type": "execute_result"
    }
   ],
   "source": [
    "str2.partition(\"S\")"
   ]
  },
  {
   "cell_type": "code",
   "execution_count": 54,
   "id": "16a84719-cee4-4a0b-853b-cc86cf3dde3a",
   "metadata": {},
   "outputs": [
    {
     "data": {
      "text/plain": [
       "'MY NAME IS SHASHWAT SINGH'"
      ]
     },
     "execution_count": 54,
     "metadata": {},
     "output_type": "execute_result"
    }
   ],
   "source": [
    "#string upper and lowercase\n",
    "str2.upper()"
   ]
  },
  {
   "cell_type": "code",
   "execution_count": 55,
   "id": "b81f5d9b-9702-4fe9-ae50-dd28c1b41d93",
   "metadata": {},
   "outputs": [
    {
     "data": {
      "text/plain": [
       "'my name is shashwat singh'"
      ]
     },
     "execution_count": 55,
     "metadata": {},
     "output_type": "execute_result"
    }
   ],
   "source": [
    "str2.lower()"
   ]
  },
  {
   "cell_type": "code",
   "execution_count": 56,
   "id": "2b1ffe64-f46b-477b-a14c-9a26e6c16ef7",
   "metadata": {},
   "outputs": [
    {
     "data": {
      "text/plain": [
       "'mY NAME IS sHASHWAT sINGH'"
      ]
     },
     "execution_count": 56,
     "metadata": {},
     "output_type": "execute_result"
    }
   ],
   "source": [
    "#This is self explanatory\n",
    "str2.swapcase()"
   ]
  },
  {
   "cell_type": "code",
   "execution_count": 57,
   "id": "52961e8a-a0fb-439d-bc85-9f256318477a",
   "metadata": {},
   "outputs": [
    {
     "data": {
      "text/plain": [
       "'My Name Is Shashwat Singh'"
      ]
     },
     "execution_count": 57,
     "metadata": {},
     "output_type": "execute_result"
    }
   ],
   "source": [
    "str2.title()"
   ]
  }
 ],
 "metadata": {
  "kernelspec": {
   "display_name": "Python 3 (ipykernel)",
   "language": "python",
   "name": "python3"
  },
  "language_info": {
   "codemirror_mode": {
    "name": "ipython",
    "version": 3
   },
   "file_extension": ".py",
   "mimetype": "text/x-python",
   "name": "python",
   "nbconvert_exporter": "python",
   "pygments_lexer": "ipython3",
   "version": "3.10.8"
  }
 },
 "nbformat": 4,
 "nbformat_minor": 5
}
