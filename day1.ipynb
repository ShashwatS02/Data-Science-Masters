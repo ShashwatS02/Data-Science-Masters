{
 "cells": [
  {
   "cell_type": "code",
   "execution_count": 9,
   "id": "80ae1205-2fb4-44c3-82fd-7fe515e734df",
   "metadata": {},
   "outputs": [
    {
     "data": {
      "text/plain": [
       "2"
      ]
     },
     "execution_count": 9,
     "metadata": {},
     "output_type": "execute_result"
    }
   ],
   "source": [
    "1+1"
   ]
  },
  {
   "cell_type": "code",
   "execution_count": 10,
   "id": "aeeb0552-1bee-455d-952d-546e6a030d93",
   "metadata": {},
   "outputs": [
    {
     "data": {
      "text/plain": [
       "10"
      ]
     },
     "execution_count": 10,
     "metadata": {},
     "output_type": "execute_result"
    }
   ],
   "source": [
    "# this is a comment\n",
    "a=10\n",
    "a"
   ]
  },
  {
   "cell_type": "code",
   "execution_count": 11,
   "id": "5269e780-d473-43df-b58b-027263d283ce",
   "metadata": {},
   "outputs": [
    {
     "data": {
      "text/plain": [
       "10"
      ]
     },
     "execution_count": 11,
     "metadata": {},
     "output_type": "execute_result"
    }
   ],
   "source": [
    "\"\"\"\n",
    "this is an example\"\"\"\n",
    "a"
   ]
  },
  {
   "cell_type": "markdown",
   "id": "399b64df-638c-48d2-bf99-bd4071847213",
   "metadata": {},
   "source": [
    "# hello"
   ]
  },
  {
   "cell_type": "raw",
   "id": "3658e1a4-22ed-4cda-a475-446a32c06cca",
   "metadata": {},
   "source": [
    "dfkhflhljlkgj"
   ]
  },
  {
   "cell_type": "raw",
   "id": "ef24ffe0-2e2c-4ed1-8a38-ee70c496db44",
   "metadata": {},
   "source": [
    "dwssf"
   ]
  },
  {
   "cell_type": "markdown",
   "id": "a7a6b1a8-3b22-4dda-92aa-28a041d5e928",
   "metadata": {},
   "source": [
    "### Numbers"
   ]
  },
  {
   "cell_type": "code",
   "execution_count": 5,
   "id": "5f603c81-d370-493b-bc08-8f63663ab4be",
   "metadata": {},
   "outputs": [
    {
     "name": "stdout",
     "output_type": "stream",
     "text": [
      "4\n"
     ]
    }
   ],
   "source": [
    "print(1+3)"
   ]
  },
  {
   "cell_type": "markdown",
   "id": "626f50c7-4758-4a91-962c-a57f833b3e0c",
   "metadata": {},
   "source": [
    "### Variables Assignment"
   ]
  },
  {
   "cell_type": "code",
   "execution_count": 9,
   "id": "ed92fa9d-d18d-4a38-a696-eb271d2cb2d9",
   "metadata": {},
   "outputs": [
    {
     "data": {
      "text/plain": [
       "'Student'"
      ]
     },
     "execution_count": 9,
     "metadata": {},
     "output_type": "execute_result"
    }
   ],
   "source": [
    "name=\"Shashwat\"\n",
    "Job=\"Student\"\n",
    "name\n",
    "Job"
   ]
  },
  {
   "cell_type": "code",
   "execution_count": 10,
   "id": "f0cbb5e5-2a06-4885-8018-168ea4b55c2b",
   "metadata": {},
   "outputs": [
    {
     "data": {
      "text/plain": [
       "'Shashwat'"
      ]
     },
     "execution_count": 10,
     "metadata": {},
     "output_type": "execute_result"
    }
   ],
   "source": [
    "name"
   ]
  },
  {
   "cell_type": "code",
   "execution_count": 11,
   "id": "cb2f3dbe-5da0-4c45-882a-166e5409f53e",
   "metadata": {},
   "outputs": [
    {
     "data": {
      "text/plain": [
       "str"
      ]
     },
     "execution_count": 11,
     "metadata": {},
     "output_type": "execute_result"
    }
   ],
   "source": [
    "type(\"\")"
   ]
  },
  {
   "cell_type": "code",
   "execution_count": 12,
   "id": "6a3c24d3-4a57-42a7-92d3-f496b0188bba",
   "metadata": {},
   "outputs": [
    {
     "data": {
      "text/plain": [
       "str"
      ]
     },
     "execution_count": 12,
     "metadata": {},
     "output_type": "execute_result"
    }
   ],
   "source": [
    "type('')"
   ]
  },
  {
   "cell_type": "code",
   "execution_count": 13,
   "id": "b5f2b1d2-4a8b-47c1-8592-3cf6c66583d2",
   "metadata": {},
   "outputs": [],
   "source": [
    "decimal_number=2.5"
   ]
  },
  {
   "cell_type": "code",
   "execution_count": 14,
   "id": "884b52d9-41fe-4c47-aff6-8d29d1caec76",
   "metadata": {},
   "outputs": [
    {
     "data": {
      "text/plain": [
       "2.5"
      ]
     },
     "execution_count": 14,
     "metadata": {},
     "output_type": "execute_result"
    }
   ],
   "source": [
    "decimal_number"
   ]
  },
  {
   "cell_type": "code",
   "execution_count": 15,
   "id": "e104e267-d5b3-4ca0-bd8e-3644d93e81d0",
   "metadata": {},
   "outputs": [
    {
     "data": {
      "text/plain": [
       "float"
      ]
     },
     "execution_count": 15,
     "metadata": {},
     "output_type": "execute_result"
    }
   ],
   "source": [
    "type(decimal_number)"
   ]
  },
  {
   "cell_type": "code",
   "execution_count": null,
   "id": "b31af19d-2601-4fc9-a191-148b2c2d924b",
   "metadata": {},
   "outputs": [],
   "source": [
    "decimal_number"
   ]
  },
  {
   "cell_type": "code",
   "execution_count": 16,
   "id": "fd9fa7ae-2da6-4e5e-9727-f8867aae1e3c",
   "metadata": {},
   "outputs": [
    {
     "data": {
      "text/plain": [
       "(1+2j)"
      ]
     },
     "execution_count": 16,
     "metadata": {},
     "output_type": "execute_result"
    }
   ],
   "source": [
    "1+2j"
   ]
  },
  {
   "cell_type": "code",
   "execution_count": 17,
   "id": "ec342667-e4db-464f-ae98-18879efa72d4",
   "metadata": {},
   "outputs": [
    {
     "data": {
      "text/plain": [
       "complex"
      ]
     },
     "execution_count": 17,
     "metadata": {},
     "output_type": "execute_result"
    }
   ],
   "source": [
    "type(1+2j)"
   ]
  },
  {
   "cell_type": "code",
   "execution_count": 18,
   "id": "ac3dc688-21c9-4eaf-8de2-43fb02fe7785",
   "metadata": {},
   "outputs": [
    {
     "data": {
      "text/plain": [
       "'\\nint, float, len, complex, bool, str, return, yield\\n'"
      ]
     },
     "execution_count": 18,
     "metadata": {},
     "output_type": "execute_result"
    }
   ],
   "source": [
    "## Reserved Keywords\n",
    "'''\n",
    "int, float, len, complex, bool, str, return, yield\n",
    "'''"
   ]
  },
  {
   "cell_type": "markdown",
   "id": "2a092804-8685-4901-a080-8ca9da1be90b",
   "metadata": {},
   "source": [
    "## Dynamic Typing"
   ]
  },
  {
   "cell_type": "code",
   "execution_count": 19,
   "id": "fc1dd7e4-ea90-4b14-865e-a6efbc6c2f53",
   "metadata": {},
   "outputs": [],
   "source": [
    "a=12\n",
    "str1=\"Shashwat\"\n",
    "a=\"var\""
   ]
  },
  {
   "cell_type": "code",
   "execution_count": 20,
   "id": "cc222056-7e0f-4ad6-be11-4f53ed437c10",
   "metadata": {},
   "outputs": [
    {
     "name": "stdout",
     "output_type": "stream",
     "text": [
      "<class 'int'>\n"
     ]
    }
   ],
   "source": [
    "print(type(a))"
   ]
  },
  {
   "cell_type": "code",
   "execution_count": 21,
   "id": "7d436d4c-dc91-4547-bd10-1fba5994a964",
   "metadata": {},
   "outputs": [
    {
     "data": {
      "text/plain": [
       "True"
      ]
     },
     "execution_count": 21,
     "metadata": {},
     "output_type": "execute_result"
    }
   ],
   "source": [
    "bool(69)"
   ]
  },
  {
   "cell_type": "code",
   "execution_count": null,
   "id": "62f3d7a5-a454-4111-be42-deda8a940d21",
   "metadata": {},
   "outputs": [],
   "source": []
  }
 ],
 "metadata": {
  "kernelspec": {
   "display_name": "Python 3 (ipykernel)",
   "language": "python",
   "name": "python3"
  },
  "language_info": {
   "codemirror_mode": {
    "name": "ipython",
    "version": 3
   },
   "file_extension": ".py",
   "mimetype": "text/x-python",
   "name": "python",
   "nbconvert_exporter": "python",
   "pygments_lexer": "ipython3",
   "version": "3.10.8"
  }
 },
 "nbformat": 4,
 "nbformat_minor": 5
}
