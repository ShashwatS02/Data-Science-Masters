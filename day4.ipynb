{
 "cells": [
  {
   "cell_type": "code",
   "execution_count": 27,
   "id": "c4adf8d3-c32c-4421-9485-041eb971542c",
   "metadata": {},
   "outputs": [
    {
     "data": {
      "text/plain": [
       "'Shashwat singh'"
      ]
     },
     "execution_count": 27,
     "metadata": {},
     "output_type": "execute_result"
    }
   ],
   "source": [
    "#capitalizes only the first letter\n",
    "name='Shashwat Singh'\n",
    "name.capitalize()"
   ]
  },
  {
   "cell_type": "markdown",
   "id": "7b07b219-a4ea-485a-9127-fa3778d67c4f",
   "metadata": {},
   "source": [
    "## Reversing a string"
   ]
  },
  {
   "cell_type": "code",
   "execution_count": 28,
   "id": "d2d8c482-6077-42f7-aed0-8a950449f08a",
   "metadata": {},
   "outputs": [
    {
     "data": {
      "text/plain": [
       "'hgniS tawhsahS'"
      ]
     },
     "execution_count": 28,
     "metadata": {},
     "output_type": "execute_result"
    }
   ],
   "source": [
    "name[::-1]"
   ]
  },
  {
   "cell_type": "code",
   "execution_count": 29,
   "id": "9b1fdb6f-c059-4cc8-ba90-89d19253beca",
   "metadata": {},
   "outputs": [
    {
     "data": {
      "text/plain": [
       "<reversed at 0x7f3af86c0040>"
      ]
     },
     "execution_count": 29,
     "metadata": {},
     "output_type": "execute_result"
    }
   ],
   "source": [
    "reversed(name)"
   ]
  },
  {
   "cell_type": "code",
   "execution_count": 30,
   "id": "7ec3140f-597a-4237-a4b2-6b3aa87ba74c",
   "metadata": {},
   "outputs": [
    {
     "data": {
      "text/plain": [
       "'h g n i S   t a w h s a h S'"
      ]
     },
     "execution_count": 30,
     "metadata": {},
     "output_type": "execute_result"
    }
   ],
   "source": [
    "' '.join(reversed(name))"
   ]
  },
  {
   "cell_type": "code",
   "execution_count": 31,
   "id": "fe09eb07-f439-408e-97f0-cf51710efc5d",
   "metadata": {},
   "outputs": [
    {
     "data": {
      "text/plain": [
       "'SShashwatiShashwatnShashwatgShashwath'"
      ]
     },
     "execution_count": 31,
     "metadata": {},
     "output_type": "execute_result"
    }
   ],
   "source": [
    "\"Shashwat\".join(\"Singh\")"
   ]
  },
  {
   "cell_type": "code",
   "execution_count": 32,
   "id": "4abdce09-9baa-4cb7-951f-e33e805bc8ff",
   "metadata": {},
   "outputs": [
    {
     "name": "stdout",
     "output_type": "stream",
     "text": [
      "hgniS tawhsahS"
     ]
    }
   ],
   "source": [
    "for i in list(reversed(name)):\n",
    "    print(i,end='')"
   ]
  },
  {
   "cell_type": "markdown",
   "id": "7a8df293-68c6-41ee-824d-8439b9857291",
   "metadata": {},
   "source": [
    "## Removing characters from the end of a string"
   ]
  },
  {
   "cell_type": "code",
   "execution_count": 33,
   "id": "c695c79a-f0ef-4308-a64b-24ff73b4e176",
   "metadata": {},
   "outputs": [],
   "source": [
    "string_a=\" Shashwat Singh \""
   ]
  },
  {
   "cell_type": "code",
   "execution_count": 34,
   "id": "ba513bbc-fca4-4228-be76-5188b0a8d36c",
   "metadata": {},
   "outputs": [
    {
     "data": {
      "text/plain": [
       "'Shashwat Singh'"
      ]
     },
     "execution_count": 34,
     "metadata": {},
     "output_type": "execute_result"
    }
   ],
   "source": [
    "string_a.strip(' ')"
   ]
  },
  {
   "cell_type": "code",
   "execution_count": 35,
   "id": "00bc3ace-4f79-497f-948b-8c6b07c86047",
   "metadata": {},
   "outputs": [
    {
     "data": {
      "text/plain": [
       "'Shashwat Singh '"
      ]
     },
     "execution_count": 35,
     "metadata": {},
     "output_type": "execute_result"
    }
   ],
   "source": [
    "string_a.lstrip(\" \")"
   ]
  },
  {
   "cell_type": "code",
   "execution_count": 36,
   "id": "0f6a657c-6c1b-47f9-8da7-70871ae691d1",
   "metadata": {},
   "outputs": [
    {
     "data": {
      "text/plain": [
       "' Shashwat Singh'"
      ]
     },
     "execution_count": 36,
     "metadata": {},
     "output_type": "execute_result"
    }
   ],
   "source": [
    "string_a.rstrip(\" \")"
   ]
  },
  {
   "cell_type": "code",
   "execution_count": 37,
   "id": "169329b3-876f-44c0-af3c-dd84ac3d20ef",
   "metadata": {},
   "outputs": [
    {
     "data": {
      "text/plain": [
       "' Shashwat Singh '"
      ]
     },
     "execution_count": 37,
     "metadata": {},
     "output_type": "execute_result"
    }
   ],
   "source": [
    "string_a"
   ]
  },
  {
   "cell_type": "code",
   "execution_count": 38,
   "id": "3496cb86-c77b-478b-962a-166b88d1b5b7",
   "metadata": {},
   "outputs": [
    {
     "data": {
      "text/plain": [
       "'Greetings from Shashwat'"
      ]
     },
     "execution_count": 38,
     "metadata": {},
     "output_type": "execute_result"
    }
   ],
   "source": [
    "string_n=\"Greetings to Shashwat\"\n",
    "string_n.replace(\"to\",\"from\")"
   ]
  },
  {
   "cell_type": "code",
   "execution_count": 39,
   "id": "51b617cb-754c-4834-8b53-a79572fdc1c0",
   "metadata": {},
   "outputs": [
    {
     "data": {
      "text/plain": [
       "'hello   world'"
      ]
     },
     "execution_count": 39,
     "metadata": {},
     "output_type": "execute_result"
    }
   ],
   "source": [
    "'hello\\tworld'.expandtabs()"
   ]
  },
  {
   "cell_type": "code",
   "execution_count": 40,
   "id": "1c3f8d3a-598d-4ec9-8d24-b54bef561ae7",
   "metadata": {},
   "outputs": [
    {
     "data": {
      "text/plain": [
       "'Welcome to my github. Welcome to Data Science Masters'"
      ]
     },
     "execution_count": 40,
     "metadata": {},
     "output_type": "execute_result"
    }
   ],
   "source": [
    "str1=\"Welcome to my github. Welcome to dat Sience Masters\"\n",
    "str1.replace(\"dat\",\"Data\").replace(\"Sience\",\"Science\")"
   ]
  },
  {
   "cell_type": "code",
   "execution_count": 41,
   "id": "4d8280a9-f645-4e8e-a13f-ea84542fdba2",
   "metadata": {},
   "outputs": [
    {
     "data": {
      "text/plain": [
       "False"
      ]
     },
     "execution_count": 41,
     "metadata": {},
     "output_type": "execute_result"
    }
   ],
   "source": [
    "str1.isupper()"
   ]
  },
  {
   "cell_type": "code",
   "execution_count": 42,
   "id": "bc54e13b-78e0-44f4-8c54-2a9f90797995",
   "metadata": {},
   "outputs": [
    {
     "data": {
      "text/plain": [
       "True"
      ]
     },
     "execution_count": 42,
     "metadata": {},
     "output_type": "execute_result"
    }
   ],
   "source": [
    "str1=\"SHASHWAT\"\n",
    "str1.isupper()"
   ]
  },
  {
   "cell_type": "code",
   "execution_count": 43,
   "id": "214ca5ce-2531-44c1-af1c-8ee99e7d2464",
   "metadata": {},
   "outputs": [
    {
     "data": {
      "text/plain": [
       "False"
      ]
     },
     "execution_count": 43,
     "metadata": {},
     "output_type": "execute_result"
    }
   ],
   "source": [
    "str1.islower()"
   ]
  },
  {
   "cell_type": "code",
   "execution_count": 44,
   "id": "80a4d966-acff-4eda-983b-c5047dd505f0",
   "metadata": {},
   "outputs": [
    {
     "data": {
      "text/plain": [
       "False"
      ]
     },
     "execution_count": 44,
     "metadata": {},
     "output_type": "execute_result"
    }
   ],
   "source": [
    "str1.isspace()"
   ]
  },
  {
   "cell_type": "code",
   "execution_count": 45,
   "id": "236fc4ae-9b8f-4fe2-8409-d1b0d78fc560",
   "metadata": {},
   "outputs": [
    {
     "data": {
      "text/plain": [
       "True"
      ]
     },
     "execution_count": 45,
     "metadata": {},
     "output_type": "execute_result"
    }
   ],
   "source": [
    "\" \".isspace()"
   ]
  },
  {
   "cell_type": "code",
   "execution_count": 46,
   "id": "ff1281ef-c0f5-4eee-9650-696ec559becf",
   "metadata": {},
   "outputs": [
    {
     "name": "stdout",
     "output_type": "stream",
     "text": [
      "Hello\n"
     ]
    }
   ],
   "source": [
    "if \" \".isspace():\n",
    "    print(\"Hello\")"
   ]
  },
  {
   "cell_type": "code",
   "execution_count": 47,
   "id": "43398174-25ae-4196-b91b-2bb911540bb5",
   "metadata": {},
   "outputs": [
    {
     "data": {
      "text/plain": [
       "True"
      ]
     },
     "execution_count": 47,
     "metadata": {},
     "output_type": "execute_result"
    }
   ],
   "source": [
    "str2=\"Shashwat\"\n",
    "str2.endswith(\"t\")"
   ]
  },
  {
   "cell_type": "code",
   "execution_count": 48,
   "id": "7dcb7372-fd70-4c85-bd65-6eaf308ecbb2",
   "metadata": {},
   "outputs": [
    {
     "data": {
      "text/plain": [
       "False"
      ]
     },
     "execution_count": 48,
     "metadata": {},
     "output_type": "execute_result"
    }
   ],
   "source": [
    "str2.startswith(\"s\")"
   ]
  },
  {
   "cell_type": "code",
   "execution_count": 49,
   "id": "9bc9fea1-27c8-46f2-8b7e-176f68e1fe92",
   "metadata": {},
   "outputs": [
    {
     "data": {
      "text/plain": [
       "True"
      ]
     },
     "execution_count": 49,
     "metadata": {},
     "output_type": "execute_result"
    }
   ],
   "source": [
    "## check if all the chracters in string are in alphanumeric\n",
    "a=\"abcd1234\"\n",
    "a.isalnum()"
   ]
  },
  {
   "cell_type": "code",
   "execution_count": 50,
   "id": "66ccc65c-1f7f-4e5a-8e8e-b8657f8ba9ed",
   "metadata": {},
   "outputs": [
    {
     "name": "stdout",
     "output_type": "stream",
     "text": [
      "8\n"
     ]
    }
   ],
   "source": [
    "## to count the number of char in a string\n",
    "count=0\n",
    "for i in str2:\n",
    "    count=count+1\n",
    "    \n",
    "print(count)"
   ]
  },
  {
   "cell_type": "code",
   "execution_count": 51,
   "id": "34de9a76-f073-40cc-8162-869a1704a448",
   "metadata": {},
   "outputs": [
    {
     "name": "stdout",
     "output_type": "stream",
     "text": [
      "S\n",
      "h\n",
      "a\n",
      "s\n",
      "h\n",
      "w\n",
      "a\n",
      "t\n"
     ]
    }
   ],
   "source": [
    "for i in str2:\n",
    "    print(i)"
   ]
  },
  {
   "cell_type": "code",
   "execution_count": 52,
   "id": "512c7739-5b8c-41ac-8dd7-c81c532254fb",
   "metadata": {},
   "outputs": [
    {
     "data": {
      "text/plain": [
       "range(0, 8)"
      ]
     },
     "execution_count": 52,
     "metadata": {},
     "output_type": "execute_result"
    }
   ],
   "source": [
    "range(len(str2))"
   ]
  },
  {
   "cell_type": "code",
   "execution_count": 53,
   "id": "9e55f6b2-2d1e-4238-8948-0b4ef9d622fa",
   "metadata": {},
   "outputs": [
    {
     "name": "stdout",
     "output_type": "stream",
     "text": [
      "0 = S\n",
      "1 = h\n",
      "2 = a\n",
      "3 = s\n",
      "4 = h\n",
      "5 = w\n",
      "6 = a\n",
      "7 = t\n"
     ]
    }
   ],
   "source": [
    "for i in range(len(str2)):\n",
    "    print(i,'=',str2[i])"
   ]
  },
  {
   "cell_type": "code",
   "execution_count": 54,
   "id": "438f5567-adc8-4b2b-9127-84a1ca2e8079",
   "metadata": {},
   "outputs": [
    {
     "name": "stdout",
     "output_type": "stream",
     "text": [
      "7 = t\n",
      "6 = a\n",
      "5 = w\n",
      "4 = h\n",
      "3 = s\n",
      "2 = a\n",
      "1 = h\n",
      "0 = S\n"
     ]
    }
   ],
   "source": [
    "#We can use index to iterate string in the reverse direction\n",
    "for i in range(len(str2)-1,-1,-1):\n",
    "    print(i,'=',str2[i])"
   ]
  },
  {
   "cell_type": "code",
   "execution_count": 55,
   "id": "18664355-2875-4d2d-ae99-2f52654ae237",
   "metadata": {},
   "outputs": [
    {
     "name": "stdout",
     "output_type": "stream",
     "text": [
      "t\n",
      "a\n",
      "w\n",
      "h\n",
      "s\n",
      "a\n",
      "h\n",
      "S\n"
     ]
    }
   ],
   "source": [
    "ch=len(str2)-1\n",
    "while ch>=0:\n",
    "    print(str2[ch])\n",
    "    ch=ch-1"
   ]
  },
  {
   "cell_type": "code",
   "execution_count": 56,
   "id": "212b798e-47e9-43fb-b47b-c69ed3a6ce1c",
   "metadata": {},
   "outputs": [],
   "source": [
    "Name=\"Shashwat\"\n",
    "vowels=\"AaEeIiOoUu\""
   ]
  },
  {
   "cell_type": "code",
   "execution_count": 57,
   "id": "ae5cf9cc-41d4-4ca2-9fb5-599ab5ab2109",
   "metadata": {},
   "outputs": [
    {
     "name": "stdout",
     "output_type": "stream",
     "text": [
      "S is not a vowel\n",
      "h is not a vowel\n",
      "a is a vowel\n",
      "s is not a vowel\n",
      "h is not a vowel\n",
      "w is not a vowel\n",
      "a is a vowel\n",
      "t is not a vowel\n"
     ]
    }
   ],
   "source": [
    "for ch in Name:\n",
    "    if ch in vowels:\n",
    "        print(\"{} is a vowel\".format(ch))\n",
    "    else:\n",
    "        print(\"{} is not a vowel\".format(ch))"
   ]
  },
  {
   "cell_type": "code",
   "execution_count": 59,
   "id": "a21328e0-bffc-4efa-b5e8-48e689f29105",
   "metadata": {},
   "outputs": [
    {
     "name": "stdin",
     "output_type": "stream",
     "text": [
      "Enter your name Prashansha\n"
     ]
    },
    {
     "name": "stdout",
     "output_type": "stream",
     "text": [
      "P is not a vowel\n",
      "r is not a vowel\n",
      "a is a vowel\n",
      "s is not a vowel\n",
      "h is not a vowel\n",
      "a is a vowel\n",
      "n is not a vowel\n",
      "s is not a vowel\n",
      "h is not a vowel\n",
      "a is a vowel\n"
     ]
    }
   ],
   "source": [
    "name=input(\"Enter your name\")\n",
    "for ch in name:\n",
    "    if ch in vowels:\n",
    "        print(\"{} is a vowel\".format(ch))\n",
    "    else:\n",
    "        print(\"{} is not a vowel\".format(ch))"
   ]
  },
  {
   "cell_type": "markdown",
   "id": "325fdfb5-d4d5-426e-909c-775a395fbe0d",
   "metadata": {},
   "source": [
    "## List"
   ]
  },
  {
   "cell_type": "code",
   "execution_count": 60,
   "id": "95b01506-88f9-4ad1-bcce-cb15028f0d71",
   "metadata": {},
   "outputs": [
    {
     "data": {
      "text/plain": [
       "['My', 'name', 'is', 'Shashwat', 'Singh']"
      ]
     },
     "execution_count": 60,
     "metadata": {},
     "output_type": "execute_result"
    }
   ],
   "source": [
    "str1=\"My name is Shashwat Singh\"\n",
    "list(str1.split(\" \"))"
   ]
  },
  {
   "cell_type": "code",
   "execution_count": 61,
   "id": "15245d70-8d52-48f6-83a9-34b221177c35",
   "metadata": {},
   "outputs": [
    {
     "data": {
      "text/plain": [
       "['My', 'name', 'is', 'Shashwat', 'Singh']"
      ]
     },
     "execution_count": 61,
     "metadata": {},
     "output_type": "execute_result"
    }
   ],
   "source": [
    "(str1.split(\" \"))"
   ]
  },
  {
   "cell_type": "code",
   "execution_count": 62,
   "id": "62d8fdbf-933b-4ca3-9b70-fc4d154d9e15",
   "metadata": {},
   "outputs": [],
   "source": [
    "lst=(str1.split(\" \"))"
   ]
  },
  {
   "cell_type": "code",
   "execution_count": 63,
   "id": "3e548930-6f17-4f12-b560-a964432ea92a",
   "metadata": {},
   "outputs": [
    {
     "data": {
      "text/plain": [
       "['My', 'name', 'is', 'Shashwat', 'Singh']"
      ]
     },
     "execution_count": 63,
     "metadata": {},
     "output_type": "execute_result"
    }
   ],
   "source": [
    "lst"
   ]
  },
  {
   "cell_type": "code",
   "execution_count": 64,
   "id": "146990e8-9fa2-4e0e-847e-f120e05aadd2",
   "metadata": {},
   "outputs": [
    {
     "data": {
      "text/plain": [
       "['My', 'name', 'is', 'Shashwat', 'Singh', 'new element', 3]"
      ]
     },
     "execution_count": 64,
     "metadata": {},
     "output_type": "execute_result"
    }
   ],
   "source": [
    "# concatenation operation\n",
    "lst+['new element',3]"
   ]
  },
  {
   "cell_type": "code",
   "execution_count": 65,
   "id": "c1412112-1b5d-4217-a877-f48d68d11e53",
   "metadata": {},
   "outputs": [],
   "source": [
    "lst1=lst+[['new element',3]]"
   ]
  },
  {
   "cell_type": "code",
   "execution_count": 66,
   "id": "483af06b-388e-4f2a-a7b6-08b60e3f6082",
   "metadata": {},
   "outputs": [
    {
     "data": {
      "text/plain": [
       "'new element'"
      ]
     },
     "execution_count": 66,
     "metadata": {},
     "output_type": "execute_result"
    }
   ],
   "source": [
    "lst1[-1][0]"
   ]
  },
  {
   "cell_type": "code",
   "execution_count": 67,
   "id": "93e54838-cdf3-41c5-904d-4d14663f056b",
   "metadata": {},
   "outputs": [
    {
     "data": {
      "text/plain": [
       "['My',\n",
       " 'name',\n",
       " 'is',\n",
       " 'Shashwat',\n",
       " 'Singh',\n",
       " 'My',\n",
       " 'name',\n",
       " 'is',\n",
       " 'Shashwat',\n",
       " 'Singh']"
      ]
     },
     "execution_count": 67,
     "metadata": {},
     "output_type": "execute_result"
    }
   ],
   "source": [
    "lst*2"
   ]
  },
  {
   "cell_type": "code",
   "execution_count": 68,
   "id": "a811a224-29a8-4ac9-9bc6-68365ec6a33a",
   "metadata": {},
   "outputs": [],
   "source": [
    "lst1=[\"Zebra\", \"Monkey\", \"Donkey\", \"Lion\"]\n",
    "lst2=[5,6,2,9,5,8,6]"
   ]
  },
  {
   "cell_type": "code",
   "execution_count": 69,
   "id": "dac3639f-dd9b-45b8-8ed3-550900b41d04",
   "metadata": {},
   "outputs": [
    {
     "name": "stdout",
     "output_type": "stream",
     "text": [
      "Zebra\n"
     ]
    }
   ],
   "source": [
    "print(max(lst1)) #according to ascii charachter"
   ]
  },
  {
   "cell_type": "code",
   "execution_count": 70,
   "id": "8654ff94-84c2-4aa5-80ad-d681f2232590",
   "metadata": {},
   "outputs": [
    {
     "data": {
      "text/plain": [
       "9"
      ]
     },
     "execution_count": 70,
     "metadata": {},
     "output_type": "execute_result"
    }
   ],
   "source": [
    "max(lst2)"
   ]
  },
  {
   "cell_type": "markdown",
   "id": "0aec5049-b0f4-4ad0-a745-5c0e246fc507",
   "metadata": {},
   "source": [
    "## Append"
   ]
  },
  {
   "cell_type": "code",
   "execution_count": 71,
   "id": "86b9cfe6-ef18-4311-ad3b-d0685dbb0422",
   "metadata": {},
   "outputs": [],
   "source": [
    "lst=[1,2,3,4,5,6]"
   ]
  },
  {
   "cell_type": "code",
   "execution_count": 72,
   "id": "04f6b09d-b607-4b69-bb50-d08feae55578",
   "metadata": {},
   "outputs": [],
   "source": [
    "lst.append(\"Shashwat\") #in place operation"
   ]
  },
  {
   "cell_type": "code",
   "execution_count": 73,
   "id": "1b573944-9c22-4f15-8984-720b2689ec0d",
   "metadata": {},
   "outputs": [
    {
     "data": {
      "text/plain": [
       "[1, 2, 3, 4, 5, 6, 'Shashwat']"
      ]
     },
     "execution_count": 73,
     "metadata": {},
     "output_type": "execute_result"
    }
   ],
   "source": [
    "lst"
   ]
  },
  {
   "cell_type": "code",
   "execution_count": 74,
   "id": "1d176609-e05e-4323-ae3a-0d3af2818963",
   "metadata": {},
   "outputs": [
    {
     "data": {
      "text/plain": [
       "['Zebra', 'Monkey', 'Donkey', 'Lion']"
      ]
     },
     "execution_count": 74,
     "metadata": {},
     "output_type": "execute_result"
    }
   ],
   "source": [
    "lst1"
   ]
  },
  {
   "cell_type": "code",
   "execution_count": 75,
   "id": "6ad84ba6-05dc-478f-9bee-8e78c67699fa",
   "metadata": {},
   "outputs": [
    {
     "data": {
      "text/plain": [
       "'Lion'"
      ]
     },
     "execution_count": 75,
     "metadata": {},
     "output_type": "execute_result"
    }
   ],
   "source": [
    "lst1.pop() "
   ]
  },
  {
   "cell_type": "code",
   "execution_count": 76,
   "id": "f936cae7-8cc9-422d-adb3-69233ff829bf",
   "metadata": {},
   "outputs": [
    {
     "data": {
      "text/plain": [
       "['Zebra', 'Monkey', 'Donkey']"
      ]
     },
     "execution_count": 76,
     "metadata": {},
     "output_type": "execute_result"
    }
   ],
   "source": [
    "lst1 #in place operation"
   ]
  },
  {
   "cell_type": "code",
   "execution_count": 77,
   "id": "847b4309-f625-4132-a444-2f693b8e020d",
   "metadata": {},
   "outputs": [
    {
     "data": {
      "text/plain": [
       "'Donkey'"
      ]
     },
     "execution_count": 77,
     "metadata": {},
     "output_type": "execute_result"
    }
   ],
   "source": [
    "lst1.pop(2) "
   ]
  },
  {
   "cell_type": "code",
   "execution_count": 78,
   "id": "45b473ae-fe0c-49d0-826a-7b6e048d97d6",
   "metadata": {},
   "outputs": [
    {
     "data": {
      "text/plain": [
       "['Zebra', 'Monkey']"
      ]
     },
     "execution_count": 78,
     "metadata": {},
     "output_type": "execute_result"
    }
   ],
   "source": [
    "lst1"
   ]
  },
  {
   "cell_type": "markdown",
   "id": "f92d1763-d4a5-4c4b-90e9-88df12730c9b",
   "metadata": {},
   "source": [
    "## sorting and reverse method in list"
   ]
  },
  {
   "cell_type": "code",
   "execution_count": 79,
   "id": "626fd7ba-8ed8-4cf4-98de-c5d0e1191cac",
   "metadata": {},
   "outputs": [],
   "source": [
    "new_list=['q', 'e', 'f', 's', 't', 'u']"
   ]
  },
  {
   "cell_type": "code",
   "execution_count": 80,
   "id": "91e1e424-1cbc-4f78-a369-76be0493d880",
   "metadata": {},
   "outputs": [],
   "source": [
    "new_list.reverse()"
   ]
  },
  {
   "cell_type": "code",
   "execution_count": 81,
   "id": "8d3537d5-dd20-4738-82f9-d18725a008ab",
   "metadata": {},
   "outputs": [
    {
     "data": {
      "text/plain": [
       "['u', 't', 's', 'f', 'e', 'q']"
      ]
     },
     "execution_count": 81,
     "metadata": {},
     "output_type": "execute_result"
    }
   ],
   "source": [
    "new_list"
   ]
  },
  {
   "cell_type": "code",
   "execution_count": 82,
   "id": "bde05cd2-fb99-4ff9-b8bd-891f50045af4",
   "metadata": {},
   "outputs": [],
   "source": [
    "new_list.sort()"
   ]
  },
  {
   "cell_type": "code",
   "execution_count": 84,
   "id": "2f60ab13-cb27-439c-94f4-e85633f27524",
   "metadata": {},
   "outputs": [
    {
     "data": {
      "text/plain": [
       "['e', 'f', 'q', 's', 't', 'u']"
      ]
     },
     "execution_count": 84,
     "metadata": {},
     "output_type": "execute_result"
    }
   ],
   "source": [
    "new_list"
   ]
  },
  {
   "cell_type": "code",
   "execution_count": 85,
   "id": "c025a6d8-0b4a-4eb1-a671-e051fcd8205f",
   "metadata": {},
   "outputs": [
    {
     "data": {
      "text/plain": [
       "[1, 2, 3, 4, 5, 6, 'Shashwat']"
      ]
     },
     "execution_count": 85,
     "metadata": {},
     "output_type": "execute_result"
    }
   ],
   "source": [
    "lst"
   ]
  },
  {
   "cell_type": "code",
   "execution_count": 86,
   "id": "a360b564-3619-4ee6-86e6-9bda3496d23b",
   "metadata": {},
   "outputs": [],
   "source": [
    "lst.extend([\"Shashwat\", \"Singh\"])"
   ]
  },
  {
   "cell_type": "code",
   "execution_count": 87,
   "id": "c35a37e4-a059-462c-8c30-9b35749ac89c",
   "metadata": {},
   "outputs": [
    {
     "data": {
      "text/plain": [
       "[1, 2, 3, 4, 5, 6, 'Shashwat', 'Shashwat', 'Singh']"
      ]
     },
     "execution_count": 87,
     "metadata": {},
     "output_type": "execute_result"
    }
   ],
   "source": [
    "lst"
   ]
  },
  {
   "cell_type": "markdown",
   "id": "45b8e354-d1fc-43eb-ba08-f937873d7f0a",
   "metadata": {},
   "source": [
    "## Nested list"
   ]
  },
  {
   "cell_type": "code",
   "execution_count": 88,
   "id": "c43b53ce-e2d0-4668-b91d-bb6dea1b6834",
   "metadata": {},
   "outputs": [],
   "source": [
    "lst_1=[1,2,3]\n",
    "lst_2=[4,5,6]\n",
    "lst_3=[7,8,9]\n",
    "matrix=[lst_1,lst_2,lst_3]"
   ]
  },
  {
   "cell_type": "code",
   "execution_count": 89,
   "id": "470eb213-78c9-4c0d-8c56-2d7062abee09",
   "metadata": {},
   "outputs": [
    {
     "data": {
      "text/plain": [
       "[[1, 2, 3], [4, 5, 6], [7, 8, 9]]"
      ]
     },
     "execution_count": 89,
     "metadata": {},
     "output_type": "execute_result"
    }
   ],
   "source": [
    "matrix"
   ]
  },
  {
   "cell_type": "code",
   "execution_count": 90,
   "id": "e7fe7ab9-6554-4913-af9d-a31b9de546c6",
   "metadata": {},
   "outputs": [
    {
     "data": {
      "text/plain": [
       "[4, 5, 6]"
      ]
     },
     "execution_count": 90,
     "metadata": {},
     "output_type": "execute_result"
    }
   ],
   "source": [
    "matrix[1]"
   ]
  },
  {
   "cell_type": "code",
   "execution_count": 91,
   "id": "fa5c8b40-cc17-40cf-bfd7-d7fe2ccf3389",
   "metadata": {},
   "outputs": [
    {
     "data": {
      "text/plain": [
       "6"
      ]
     },
     "execution_count": 91,
     "metadata": {},
     "output_type": "execute_result"
    }
   ],
   "source": [
    "matrix[1][2]"
   ]
  },
  {
   "cell_type": "code",
   "execution_count": 92,
   "id": "bd931a40-50bb-426b-aee4-bf31a8d8574f",
   "metadata": {},
   "outputs": [
    {
     "data": {
      "text/plain": [
       "[8, 9]"
      ]
     },
     "execution_count": 92,
     "metadata": {},
     "output_type": "execute_result"
    }
   ],
   "source": [
    "matrix[2][1:]"
   ]
  },
  {
   "cell_type": "code",
   "execution_count": 96,
   "id": "9d4cdde3-d2a1-42c1-8ab9-ab15c50be51e",
   "metadata": {},
   "outputs": [
    {
     "data": {
      "text/plain": [
       "[0,\n",
       " ' ',\n",
       " 2,\n",
       " ' ',\n",
       " 4,\n",
       " ' ',\n",
       " 6,\n",
       " ' ',\n",
       " 8,\n",
       " ' ',\n",
       " 10,\n",
       " ' ',\n",
       " 12,\n",
       " ' ',\n",
       " 14,\n",
       " ' ',\n",
       " 16,\n",
       " ' ',\n",
       " 18,\n",
       " ' ']"
      ]
     },
     "execution_count": 96,
     "metadata": {},
     "output_type": "execute_result"
    }
   ],
   "source": [
    "##List comprehension\n",
    "## Even numbers\n",
    "[i if i%2==0 else \" \" for i in range(0,20)]"
   ]
  },
  {
   "cell_type": "code",
   "execution_count": null,
   "id": "7015b50c-aabf-43c3-9a64-68bed2cc5819",
   "metadata": {},
   "outputs": [],
   "source": []
  },
  {
   "cell_type": "code",
   "execution_count": null,
   "id": "91aeeca3-04e1-4889-8e23-c7777816a723",
   "metadata": {},
   "outputs": [],
   "source": []
  },
  {
   "cell_type": "code",
   "execution_count": null,
   "id": "2bb79fb2-8f8c-4657-a284-e97062e80f4b",
   "metadata": {},
   "outputs": [],
   "source": []
  },
  {
   "cell_type": "code",
   "execution_count": null,
   "id": "0b46d059-8077-4ab1-8678-0ee2e055a82e",
   "metadata": {},
   "outputs": [],
   "source": []
  }
 ],
 "metadata": {
  "kernelspec": {
   "display_name": "Python 3 (ipykernel)",
   "language": "python",
   "name": "python3"
  },
  "language_info": {
   "codemirror_mode": {
    "name": "ipython",
    "version": 3
   },
   "file_extension": ".py",
   "mimetype": "text/x-python",
   "name": "python",
   "nbconvert_exporter": "python",
   "pygments_lexer": "ipython3",
   "version": "3.10.8"
  }
 },
 "nbformat": 4,
 "nbformat_minor": 5
}
