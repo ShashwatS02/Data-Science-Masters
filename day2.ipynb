{
 "cells": [
  {
   "cell_type": "code",
   "execution_count": 1,
   "id": "7ff7fede-c82a-439a-86c5-40cff89b3102",
   "metadata": {},
   "outputs": [],
   "source": [
    "a=10"
   ]
  },
  {
   "cell_type": "code",
   "execution_count": 2,
   "id": "ada644e7-8e49-41a6-923a-28122b457812",
   "metadata": {},
   "outputs": [
    {
     "data": {
      "text/plain": [
       "int"
      ]
     },
     "execution_count": 2,
     "metadata": {},
     "output_type": "execute_result"
    }
   ],
   "source": [
    "int"
   ]
  },
  {
   "cell_type": "code",
   "execution_count": 5,
   "id": "1853b227-4061-414f-a497-5112fcca3f12",
   "metadata": {},
   "outputs": [
    {
     "name": "stdout",
     "output_type": "stream",
     "text": [
      "Hello world\n"
     ]
    }
   ],
   "source": [
    "#BOth ', \" are same \n",
    "print(\"Hello world\")"
   ]
  },
  {
   "cell_type": "code",
   "execution_count": 4,
   "id": "f73c12e6-f2db-4b5d-b97b-a36a9da2e3d3",
   "metadata": {},
   "outputs": [
    {
     "name": "stdout",
     "output_type": "stream",
     "text": [
      "Hello World\n"
     ]
    }
   ],
   "source": [
    "print('Hello World')"
   ]
  },
  {
   "cell_type": "code",
   "execution_count": 12,
   "id": "78dc295a-238e-4c02-8d53-16823cdbb0c0",
   "metadata": {},
   "outputs": [
    {
     "name": "stdout",
     "output_type": "stream",
     "text": [
      "My age is: 20\n"
     ]
    }
   ],
   "source": [
    "age= 20 #it's a variable\n",
    "print(\"My age is:\",age)"
   ]
  },
  {
   "cell_type": "code",
   "execution_count": 8,
   "id": "0f008e32-11cb-48df-b0af-0eb58403c089",
   "metadata": {},
   "outputs": [
    {
     "name": "stdout",
     "output_type": "stream",
     "text": [
      "My age is: {age}\n"
     ]
    }
   ],
   "source": [
    "print(\"My age is: {age}\")"
   ]
  },
  {
   "cell_type": "code",
   "execution_count": 11,
   "id": "544dd3fb-111d-4827-b78d-03ee74d14459",
   "metadata": {},
   "outputs": [
    {
     "name": "stdout",
     "output_type": "stream",
     "text": [
      "My age is: 20\n"
     ]
    }
   ],
   "source": [
    "print(f\"My age is: {age}\") #fstring or formatting string in python"
   ]
  },
  {
   "cell_type": "code",
   "execution_count": 16,
   "id": "87f4d954-b325-428e-867e-f84e2860e23c",
   "metadata": {},
   "outputs": [
    {
     "name": "stdout",
     "output_type": "stream",
     "text": [
      "My name is Shashwat and age is 20\n"
     ]
    }
   ],
   "source": [
    "## format()\n",
    "name= \"Shashwat\"\n",
    "age= 20\n",
    "print(\"My name is {} and age is {}\".format(name,age)) ##order is important"
   ]
  },
  {
   "cell_type": "code",
   "execution_count": 18,
   "id": "cd53af69-1474-464f-a8fc-4a348bfb1390",
   "metadata": {},
   "outputs": [
    {
     "name": "stdout",
     "output_type": "stream",
     "text": [
      "My age is 20 and I haven't completed: my degree of BE with the name of Shashwat Singh\n"
     ]
    }
   ],
   "source": [
    "name= \"Shashwat Singh\"\n",
    "age= 20\n",
    "degree= \"BE\"\n",
    "print(\"My age is {firstage} and I haven't completed: my degree of {firstdeg} with the name of {firstname}\".format(firstdeg=degree,firstname=name,firstage=age))"
   ]
  },
  {
   "cell_type": "code",
   "execution_count": 19,
   "id": "c756b042-2552-4d51-b85f-0f48bc3319c5",
   "metadata": {},
   "outputs": [
    {
     "name": "stdout",
     "output_type": "stream",
     "text": [
      "My age is 20 and I haven't completed: my degree of BE with the name of Shashwat Singh\n"
     ]
    }
   ],
   "source": [
    "print(f\"My age is {age} and I haven't completed: my degree of {degree} with the name of {name}\")"
   ]
  },
  {
   "cell_type": "code",
   "execution_count": 1,
   "id": "d6956246-8e77-456f-bd5a-723be5e45baa",
   "metadata": {},
   "outputs": [
    {
     "name": "stdout",
     "output_type": "stream",
     "text": [
      "You are eligible to vote\n"
     ]
    }
   ],
   "source": [
    "## If Statements\n",
    "age=18\n",
    "if age>=18:\n",
    "    print(\"You are eligible to vote\")"
   ]
  },
  {
   "cell_type": "code",
   "execution_count": 3,
   "id": "d8c96147-84e1-417a-917b-1d7afa340dd5",
   "metadata": {},
   "outputs": [
    {
     "name": "stdout",
     "output_type": "stream",
     "text": [
      "You are not eligible\n"
     ]
    }
   ],
   "source": [
    "age=17\n",
    "if age<18:\n",
    "    print(\"You are not eligible\")"
   ]
  },
  {
   "cell_type": "code",
   "execution_count": 7,
   "id": "4c0fe8aa-3e7b-42c8-bf67-16af0b236ae0",
   "metadata": {},
   "outputs": [
    {
     "name": "stdin",
     "output_type": "stream",
     "text": [
      "Enter your age 21\n"
     ]
    },
    {
     "name": "stdout",
     "output_type": "stream",
     "text": [
      "You are young blood\n"
     ]
    }
   ],
   "source": [
    "age=int(input(\"Enter your age\"))\n",
    "if age>=18 and age<=45:\n",
    "    print(\"You are young blood\")"
   ]
  },
  {
   "cell_type": "code",
   "execution_count": 8,
   "id": "60661d49-dcb4-49e0-8a50-f70301d64c96",
   "metadata": {},
   "outputs": [
    {
     "name": "stdin",
     "output_type": "stream",
     "text": [
      "Enter your age 17\n"
     ]
    },
    {
     "name": "stdout",
     "output_type": "stream",
     "text": [
      "We'll let you know\n"
     ]
    }
   ],
   "source": [
    "## if else statements\n",
    "age=int(input(\"Enter your age\"))\n",
    "if age>=18 and age<=45:\n",
    "    print(\"You are young blood\")\n",
    "else:\n",
    "    print(\"We'll let you know\")"
   ]
  },
  {
   "cell_type": "code",
   "execution_count": 10,
   "id": "0ae8a69b-ecb0-47d7-9db3-cbd5bc7913b5",
   "metadata": {},
   "outputs": [
    {
     "name": "stdin",
     "output_type": "stream",
     "text": [
      "Enter the product price 1000\n"
     ]
    },
    {
     "name": "stdout",
     "output_type": "stream",
     "text": [
      "Product price after 30% discount: 700.0\n"
     ]
    }
   ],
   "source": [
    "price=int(input(\"Enter the product price\"))\n",
    "if price>1000:\n",
    "    out=price-(20/100*price)\n",
    "    print(f\"Product price after 20% dicount: {out}\")\n",
    "else:\n",
    "    out=price-(30/100*price)\n",
    "    print(f\"Product price after 30% discount: {out}\") "
   ]
  },
  {
   "cell_type": "markdown",
   "id": "4c7684d0-6fb1-4565-9aee-3b9c1ebf02dd",
   "metadata": {},
   "source": [
    "#next we did elif"
   ]
  },
  {
   "cell_type": "code",
   "execution_count": 2,
   "id": "74553bea-4043-4659-a978-9948df7de51f",
   "metadata": {},
   "outputs": [
    {
     "name": "stdin",
     "output_type": "stream",
     "text": [
      "Enter the number 999\n"
     ]
    },
    {
     "name": "stdout",
     "output_type": "stream",
     "text": [
      "Value is less than or equal to 999\n"
     ]
    }
   ],
   "source": [
    "#single statement suites\n",
    "val=int(input('Enter the number'))\n",
    "if(val<=999):print(\"Value is less than or equal to 999\")\n",
    "else:print(\"Go home\")"
   ]
  },
  {
   "cell_type": "markdown",
   "id": "8980a0c4-bc43-4335-993c-cc52085108fb",
   "metadata": {},
   "source": [
    "## Loops Statements\n",
    "\n",
    "1. while loop \n",
    "2. for loop\n",
    "3. nested loops\n",
    "4. loop control(break, continue, pass)"
   ]
  },
  {
   "cell_type": "code",
   "execution_count": 1,
   "id": "21d49cb8-8b22-4a7c-82be-64f8d321afec",
   "metadata": {},
   "outputs": [
    {
     "name": "stdout",
     "output_type": "stream",
     "text": [
      "25\n",
      "26\n",
      "27\n",
      "28\n",
      "29\n",
      "30\n",
      "31\n",
      "32\n",
      "33\n",
      "34\n",
      "35\n",
      "36\n",
      "37\n",
      "38\n",
      "39\n",
      "40\n",
      "41\n",
      "42\n",
      "43\n",
      "44\n",
      "45\n",
      "46\n",
      "47\n",
      "48\n",
      "49\n",
      "50\n",
      "51\n",
      "52\n",
      "53\n",
      "54\n",
      "55\n",
      "56\n",
      "57\n",
      "58\n",
      "59\n",
      "60\n",
      "It's time for retirement\n"
     ]
    }
   ],
   "source": [
    "# while loop while-else\n",
    "joining_age=25\n",
    "while joining_age<=60:\n",
    "    print(joining_age)\n",
    "    joining_age=joining_age+1\n",
    "    \n",
    "else:\n",
    "    print(\"It's time for retirement\")\n",
    "    "
   ]
  },
  {
   "cell_type": "code",
   "execution_count": 2,
   "id": "20ffda17-a0b7-4b90-acb4-974409cd0caf",
   "metadata": {},
   "outputs": [
    {
     "name": "stdout",
     "output_type": "stream",
     "text": [
      "1000\n",
      "900\n",
      "800\n",
      "700\n",
      "600\n",
      "500\n",
      "400\n",
      "300\n",
      "200\n",
      "100\n",
      "put more money bank people\n",
      "hello all\n"
     ]
    }
   ],
   "source": [
    "##ATM Machine with 1000rs\n",
    "total_amount=1000\n",
    "while total_amount!=0:\n",
    "    print(total_amount)\n",
    "    total_amount=total_amount-100\n",
    "else:\n",
    "    print(\"put more money bank people\")\n",
    "print(\"hello all\")\n",
    "        \n",
    "        \n"
   ]
  },
  {
   "cell_type": "markdown",
   "id": "20add9a3-3d2b-4dca-92a0-195d9ff2e382",
   "metadata": {},
   "source": [
    "## For loops"
   ]
  },
  {
   "cell_type": "code",
   "execution_count": 5,
   "id": "281de7b7-7aff-4c32-bd27-72ecc1431ab7",
   "metadata": {},
   "outputs": [],
   "source": [
    "lst=['Shashwat',1,2,3,4,\"apple\",\"banana\"]"
   ]
  },
  {
   "cell_type": "code",
   "execution_count": 7,
   "id": "32a99b18-94b3-4142-aac7-c8b3a445328a",
   "metadata": {},
   "outputs": [
    {
     "name": "stdout",
     "output_type": "stream",
     "text": [
      "Shashwat\n",
      "1\n",
      "2\n",
      "3\n",
      "4\n",
      "apple\n",
      "banana\n"
     ]
    }
   ],
   "source": [
    "#for iterating through all these variables\n",
    "for x in lst:\n",
    "    print(x)"
   ]
  },
  {
   "cell_type": "code",
   "execution_count": 6,
   "id": "a06f16d8-f46c-4e83-b485-951d5dcd3795",
   "metadata": {},
   "outputs": [
    {
     "data": {
      "text/plain": [
       "'Shashwat'"
      ]
     },
     "execution_count": 6,
     "metadata": {},
     "output_type": "execute_result"
    }
   ],
   "source": [
    "lst[0]"
   ]
  },
  {
   "cell_type": "code",
   "execution_count": 15,
   "id": "ddc17895-babd-41fd-a37a-d614745f624a",
   "metadata": {},
   "outputs": [
    {
     "name": "stdout",
     "output_type": "stream",
     "text": [
      "M\n",
      "a\n",
      "n\n",
      "g\n",
      "o\n"
     ]
    }
   ],
   "source": [
    "fruit=\"Mango\"\n",
    "for x in fruit:\n",
    "    print(x)"
   ]
  },
  {
   "cell_type": "code",
   "execution_count": 12,
   "id": "1bf736c0-28a7-4ace-946e-03ca46ba6413",
   "metadata": {},
   "outputs": [
    {
     "data": {
      "text/plain": [
       "'M'"
      ]
     },
     "execution_count": 12,
     "metadata": {},
     "output_type": "execute_result"
    }
   ],
   "source": [
    "fruit[0]"
   ]
  },
  {
   "cell_type": "code",
   "execution_count": 16,
   "id": "b07cc829-de3b-48e7-ba47-7780c0f53ed3",
   "metadata": {},
   "outputs": [
    {
     "name": "stdout",
     "output_type": "stream",
     "text": [
      "Mango"
     ]
    }
   ],
   "source": [
    "fruit=\"Mango\"\n",
    "for x in fruit:\n",
    "    print(x, end='')"
   ]
  },
  {
   "cell_type": "code",
   "execution_count": 18,
   "id": "08f61f9e-5bd3-4b20-b25d-c60a1194ae9a",
   "metadata": {},
   "outputs": [
    {
     "name": "stdout",
     "output_type": "stream",
     "text": [
      "1\n",
      "2\n",
      "3\n",
      "4\n",
      "5\n"
     ]
    }
   ],
   "source": [
    "for i in range (1, 6):\n",
    "    print(i)"
   ]
  },
  {
   "cell_type": "code",
   "execution_count": 19,
   "id": "924123b1-0c71-4375-9f1f-cf9e98ba3910",
   "metadata": {},
   "outputs": [
    {
     "name": "stdout",
     "output_type": "stream",
     "text": [
      "1\n",
      "3\n",
      "5\n",
      "7\n",
      "9\n"
     ]
    }
   ],
   "source": [
    "for i in range(1, 10, 2):\n",
    "    print(i)"
   ]
  },
  {
   "cell_type": "code",
   "execution_count": 2,
   "id": "f09db41c-52a3-4486-9984-012029ef454e",
   "metadata": {},
   "outputs": [
    {
     "name": "stdout",
     "output_type": "stream",
     "text": [
      "****************************"
     ]
    }
   ],
   "source": [
    "### Nested loops\n",
    "n=7\n",
    "for i in range(0,n):\n",
    "    for j in range(0,i+1):\n",
    "       print(\"*\",end=\"\")"
   ]
  },
  {
   "cell_type": "code",
   "execution_count": 7,
   "id": "c5e9cc3c-f6dc-4896-b070-6fe9bf6d4ff5",
   "metadata": {},
   "outputs": [
    {
     "name": "stdout",
     "output_type": "stream",
     "text": [
      "*\n",
      "**\n",
      "***\n",
      "****\n",
      "*****\n",
      "******\n",
      "*******\n"
     ]
    }
   ],
   "source": [
    "n=7\n",
    "for i in range(0,n):\n",
    "    for j in range(0,i+1):\n",
    "       print(\"*\",end=\"\")\n",
    "    print(\"\\r\")"
   ]
  },
  {
   "cell_type": "code",
   "execution_count": 8,
   "id": "8504932b-7a61-4de4-93a7-ddbebaec28cd",
   "metadata": {},
   "outputs": [],
   "source": [
    "## Loop control\n",
    "## Break and continue\n",
    "\n",
    "## Break will stop the loop continue will skip the loop"
   ]
  },
  {
   "cell_type": "code",
   "execution_count": 9,
   "id": "99e57a1c-f65f-4ba9-900f-c72729c19523",
   "metadata": {},
   "outputs": [
    {
     "name": "stdin",
     "output_type": "stream",
     "text": [
      "Enter the product price 2000\n"
     ]
    },
    {
     "name": "stdout",
     "output_type": "stream",
     "text": [
      "product price after 30% discount= 1400.0\n"
     ]
    }
   ],
   "source": [
    "price= int(input(\"Enter the product price\"))\n",
    "if price>1500:\n",
    "    out=price*0.7\n",
    "    print(f\"product price after 30% discount= {out}\")\n",
    "else:\n",
    "    out= price*0.8\n",
    "    print(f\"product price after 20% discount= {out}\")"
   ]
  },
  {
   "cell_type": "code",
   "execution_count": 5,
   "id": "fc33e626-4004-40c6-914e-afe5003e11f9",
   "metadata": {},
   "outputs": [
    {
     "name": "stdout",
     "output_type": "stream",
     "text": [
      "\n"
     ]
    }
   ],
   "source": [
    "n=2\n",
    "m=2\n",
    "for i in range(0,n,m):\n",
    "    for j in range(0,i+1,i-1):\n",
    "       print(\"*\")\n",
    "    print(\"\\r\")"
   ]
  },
  {
   "cell_type": "code",
   "execution_count": 1,
   "id": "5b1581b5-f7c9-41d3-a063-9c171302cc2e",
   "metadata": {},
   "outputs": [
    {
     "name": "stdout",
     "output_type": "stream",
     "text": [
      "*\n",
      "**\n",
      "***\n",
      "****\n",
      "*****\n",
      "******\n",
      "*******\n",
      "********\n",
      "*********\n",
      "**********\n",
      "***********\n",
      "************\n",
      "*************\n",
      "**************\n",
      "***************\n",
      "****************\n",
      "*****************\n",
      "******************\n",
      "*******************\n",
      "********************\n",
      "*********************\n",
      "**********************\n",
      "***********************\n",
      "************************\n",
      "*************************\n",
      "**************************\n",
      "***************************\n",
      "****************************\n",
      "*****************************\n",
      "******************************\n",
      "*******************************\n",
      "********************************\n",
      "*********************************\n",
      "**********************************\n",
      "***********************************\n",
      "************************************\n",
      "*************************************\n",
      "**************************************\n",
      "***************************************\n",
      "****************************************\n",
      "*****************************************\n",
      "******************************************\n",
      "*******************************************\n",
      "********************************************\n",
      "*********************************************\n",
      "**********************************************\n",
      "***********************************************\n",
      "************************************************\n",
      "*************************************************\n",
      "**************************************************\n",
      "***************************************************\n",
      "****************************************************\n",
      "*****************************************************\n",
      "******************************************************\n",
      "*******************************************************\n",
      "********************************************************\n",
      "*********************************************************\n",
      "**********************************************************\n",
      "***********************************************************\n",
      "************************************************************\n",
      "*************************************************************\n",
      "**************************************************************\n",
      "***************************************************************\n",
      "****************************************************************\n",
      "*****************************************************************\n",
      "******************************************************************\n",
      "*******************************************************************\n",
      "********************************************************************\n",
      "*********************************************************************\n",
      "**********************************************************************\n",
      "***********************************************************************\n",
      "************************************************************************\n",
      "*************************************************************************\n",
      "**************************************************************************\n",
      "***************************************************************************\n",
      "****************************************************************************\n",
      "*****************************************************************************\n",
      "******************************************************************************\n",
      "*******************************************************************************\n",
      "********************************************************************************\n",
      "*********************************************************************************\n",
      "**********************************************************************************\n",
      "***********************************************************************************\n",
      "************************************************************************************\n",
      "*************************************************************************************\n",
      "**************************************************************************************\n",
      "***************************************************************************************\n",
      "****************************************************************************************\n",
      "*****************************************************************************************\n",
      "******************************************************************************************\n",
      "*******************************************************************************************\n",
      "********************************************************************************************\n",
      "*********************************************************************************************\n",
      "**********************************************************************************************\n",
      "***********************************************************************************************\n",
      "************************************************************************************************\n",
      "*************************************************************************************************\n",
      "**************************************************************************************************\n",
      "***************************************************************************************************\n",
      "****************************************************************************************************\n",
      "*****************************************************************************************************\n",
      "******************************************************************************************************\n",
      "*******************************************************************************************************\n",
      "********************************************************************************************************\n",
      "*********************************************************************************************************\n",
      "**********************************************************************************************************\n",
      "***********************************************************************************************************\n",
      "************************************************************************************************************\n",
      "*************************************************************************************************************\n",
      "**************************************************************************************************************\n"
     ]
    }
   ],
   "source": [
    "n=110\n",
    "for i in range(0,n):\n",
    "    for j in range(0,i+1):\n",
    "       print(\"*\",end=\"\")\n",
    "    print(\"\\r\")"
   ]
  },
  {
   "cell_type": "code",
   "execution_count": null,
   "id": "92bee5e6-a63b-4520-b269-a2b1cd6b7d44",
   "metadata": {},
   "outputs": [],
   "source": []
  }
 ],
 "metadata": {
  "kernelspec": {
   "display_name": "Python 3 (ipykernel)",
   "language": "python",
   "name": "python3"
  },
  "language_info": {
   "codemirror_mode": {
    "name": "ipython",
    "version": 3
   },
   "file_extension": ".py",
   "mimetype": "text/x-python",
   "name": "python",
   "nbconvert_exporter": "python",
   "pygments_lexer": "ipython3",
   "version": "3.10.8"
  }
 },
 "nbformat": 4,
 "nbformat_minor": 5
}
